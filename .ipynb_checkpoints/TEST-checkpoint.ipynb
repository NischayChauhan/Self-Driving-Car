{
 "cells": [
  {
   "cell_type": "code",
   "execution_count": null,
   "metadata": {},
   "outputs": [],
   "source": [
    "import argparse\n",
    "import base64\n",
    "from datetime import datetime\n",
    "import os\n",
    "import shutil\n",
    "import numpy as np\n",
    "import socketio\n",
    "import eventlet\n",
    "import eventlet.wsgi\n",
    "from PIL import Image\n",
    "from flask import Flask\n",
    "from io import BytesIO\n",
    "import cv2\n",
    "from keras.models import load_model\n",
    "import utils"
   ]
  },
  {
   "cell_type": "code",
   "execution_count": null,
   "metadata": {},
   "outputs": [],
   "source": [
    "#GETTING DATA FROM THE SIMULATOR VIA A SERVER\n",
    "@sio.on('telemetry')\n",
    "def telemetry(sid, data):\n",
    "    if data:\n",
    "        steering_angle = float(data[\"steering_angle\"])\n",
    "        throttle = float(data[\"throttle\"])\n",
    "        speed = float(data[\"speed\"])\n",
    "        \n",
    "        # The current image from the center camera of the car\n",
    "        image = Image.open(BytesIO(base64.b64decode(data[\"image\"])))\n",
    "        image = image[60:-25,:]\n",
    "        image = cv2.resize(image,(200,66))\n",
    "        image = np.array([image])  \n",
    "\n",
    "        steering_angle = float(model.predict(image, batch_size=1))\n",
    "        \n",
    "        ## WE WILL INCREASE THE THROTTLE WHICH WILL INCREASE THE SPEED \n",
    "        ## HERE YOU CAN PLAY WITH VARIABLES MORE \n",
    "        throttle = 1.0 - steering_angle**2 - (speed/speed_limit)**2\n",
    "\n",
    "        print steering_angle, throttle, speed\n",
    "        send_control(steering_angle, throttle)\n",
    "    else:\n",
    "        sio.emit('manual', data={}, skip_sid=True)"
   ]
  },
  {
   "cell_type": "code",
   "execution_count": null,
   "metadata": {},
   "outputs": [],
   "source": [
    "@sio.on('connect')\n",
    "def connect(sid, environ):\n",
    "    print(\"connect \", sid)\n",
    "    send_control(0, 0)"
   ]
  },
  {
   "cell_type": "code",
   "execution_count": null,
   "metadata": {},
   "outputs": [],
   "source": [
    "def send_control(steering_angle, throttle):\n",
    "    sio.emit(\n",
    "        \"steer\",\n",
    "        data={'steering_angle': steering_angle.__str__(),'throttle': throttle.__str__()},\n",
    "        skip_sid=True)"
   ]
  },
  {
   "cell_type": "code",
   "execution_count": null,
   "metadata": {},
   "outputs": [],
   "source": [
    "## AND NOW SIMPLY LOAD THE MODEL WHICH YOU HAVE SAVED FROM RUNNING THE TRAIN.IPYNB\n",
    "# ENJOY THE SIMULATION\n",
    "model = load_model('./model.h5')\n",
    "app = socketio.Middleware(sio, app)\n",
    "eventlet.wsgi.server(eventlet.listen(('', 4567)), app)"
   ]
  },
  {
   "cell_type": "code",
   "execution_count": null,
   "metadata": {},
   "outputs": [],
   "source": []
  },
  {
   "cell_type": "code",
   "execution_count": null,
   "metadata": {},
   "outputs": [],
   "source": []
  }
 ],
 "metadata": {
  "kernelspec": {
   "display_name": "Python 2",
   "language": "python",
   "name": "python2"
  },
  "language_info": {
   "codemirror_mode": {
    "name": "ipython",
    "version": 2
   },
   "file_extension": ".py",
   "mimetype": "text/x-python",
   "name": "python",
   "nbconvert_exporter": "python",
   "pygments_lexer": "ipython2",
   "version": "2.7.12"
  }
 },
 "nbformat": 4,
 "nbformat_minor": 2
}
