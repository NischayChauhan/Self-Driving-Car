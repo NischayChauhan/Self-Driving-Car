{
 "cells": [
  {
   "cell_type": "code",
   "execution_count": null,
   "metadata": {},
   "outputs": [],
   "source": [
    "import numpy as np\n",
    "import pandas as pd\n",
    "import matplotlib.pyplot as plt\n",
    "%matplotlib inline\n",
    "import cv2\n",
    "import os\n",
    "from sklearn.model_selection import train_test_split\n",
    "from keras.models import Sequential, save_model\n",
    "from keras.callbacks import ModelCheckpoint\n",
    "from keras.layers import Conv2D, MaxPooling2D, Dropout, Dense, Flatten\n"
   ]
  },
  {
   "cell_type": "code",
   "execution_count": null,
   "metadata": {},
   "outputs": [],
   "source": [
    "# THIS WILL CUT YOUR IMAGE SUCH THAT ONLY THAT PART WHICH CONTAIN ROAD IN IT REMAINS.\n",
    "def processImage(img):\n",
    "    image = cv2.imread(img)\n",
    "    image = cv2.cvtColor(image,cv2.COLOR_BGR2RGB)\n",
    "    image = image[60:-25,:]\n",
    "    return image\n",
    "\n",
    "\n",
    "# WE ARE TAKING ONLY CENTER IMAGE AND STERRING ANGLE AND WILL COMPUTE THROTTLE ACCORDINGLY BUT YOU CAN EXPERIMENT WITH IT\n",
    "def getData(ds):\n",
    "    ds = np.array(ds)\n",
    "    centerImageLoaction = ds[:,0]\n",
    "    SterringAngle = ds[:,3]\n",
    "    newImage = []\n",
    "    for i in centerImageLoaction:\n",
    "        newImage.append(processImage(i))\n",
    "    newImage = np.array(newImage)\n",
    "    sterringAngle = ds[:,3]\n",
    "    return newImage, sterringAngle"
   ]
  },
  {
   "cell_type": "code",
   "execution_count": null,
   "metadata": {},
   "outputs": [],
   "source": [
    "# THIS LOG WILL BE THERE ONCE YOU RUN THE SIMULATOR IN TRAINING MODE (and PRESS R TO RECORD)\n",
    "ds = pd.read_csv('./driving_log.csv')\n",
    "X,Y = getData(ds)"
   ]
  },
  {
   "cell_type": "code",
   "execution_count": null,
   "metadata": {},
   "outputs": [],
   "source": [
    "print (X.shape,Y.shape)"
   ]
  },
  {
   "cell_type": "code",
   "execution_count": null,
   "metadata": {},
   "outputs": [],
   "source": [
    "plt.imshow(X[40])\n",
    "plt.show()\n",
    "print( Y[40])"
   ]
  },
  {
   "cell_type": "code",
   "execution_count": null,
   "metadata": {},
   "outputs": [],
   "source": [
    "X_train,X_test,Y_train,Y_test = train_test_split(X,Y,test_size=0.2)\n",
    "\n",
    "print( X_train.shape)\n",
    "print (X_test.shape)\n",
    "\n",
    "print( Y_train.shape)\n",
    "print (Y_test.shape)"
   ]
  },
  {
   "cell_type": "code",
   "execution_count": null,
   "metadata": {},
   "outputs": [],
   "source": [
    "X_train = X_train/255.0\n",
    "X_test = X_test/255.0"
   ]
  },
  {
   "cell_type": "code",
   "execution_count": null,
   "metadata": {},
   "outputs": [],
   "source": [
    "model = Sequential()\n",
    "model.add(Conv2D(24, 5, 5, activation='relu',input_shape = (75, 320, 3), subsample=(2, 2)))\n",
    "model.add(Conv2D(36, 5, 5, activation='relu', subsample=(2, 2)))\n",
    "model.add(Conv2D(48, 5, 5, activation='relu', subsample=(2, 2)))\n",
    "model.add(Conv2D(64, 3, 3, activation='relu'))\n",
    "model.add(Conv2D(64, 3, 3, activation='relu'))\n",
    "model.add(Dropout(0.5))\n",
    "model.add(Flatten())\n",
    "model.add(Dense(100, activation='relu'))\n",
    "model.add(Dense(50, activation='relu'))\n",
    "model.add(Dense(10, activation='relu'))\n",
    "model.add(Dense(1))\n",
    "model.summary()"
   ]
  },
  {
   "cell_type": "code",
   "execution_count": null,
   "metadata": {},
   "outputs": [],
   "source": [
    "checkpoint = ModelCheckpoint('model-{val_loss:.4f}.h5',monitor='val_loss',verbose=0,save_best_only=True,mode='auto')\n",
    "model.compile(loss='mean_squared_error', optimizer='adam',metrics=['accuracy'])\n",
    "model.fit( X_train, Y_train, batch_size=30, nb_epoch=50, validation_data=(X_test, Y_test),callbacks=[checkpoint], shuffle=True )"
   ]
  },
  {
   "cell_type": "code",
   "execution_count": null,
   "metadata": {},
   "outputs": [],
   "source": []
  },
  {
   "cell_type": "code",
   "execution_count": null,
   "metadata": {},
   "outputs": [],
   "source": []
  },
  {
   "cell_type": "code",
   "execution_count": null,
   "metadata": {},
   "outputs": [],
   "source": []
  }
 ],
 "metadata": {
  "kernelspec": {
   "display_name": "Python 2",
   "language": "python",
   "name": "python2"
  },
  "language_info": {
   "codemirror_mode": {
    "name": "ipython",
    "version": 2
   },
   "file_extension": ".py",
   "mimetype": "text/x-python",
   "name": "python",
   "nbconvert_exporter": "python",
   "pygments_lexer": "ipython2",
   "version": "2.7.12"
  }
 },
 "nbformat": 4,
 "nbformat_minor": 2
}
